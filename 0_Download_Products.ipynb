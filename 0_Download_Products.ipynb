{
 "cells": [
  {
   "cell_type": "markdown",
   "id": "b2a3078d-532b-498a-97c6-0e11e1289e2b",
   "metadata": {},
   "source": [
    "These notebooks are for inspecting specific products. As such, we are going to look at using hyp3 to download GUNWs after they have been generated."
   ]
  },
  {
   "cell_type": "code",
   "execution_count": 1,
   "id": "43dc0b70-861f-4bea-b0d2-488a4b98a5d2",
   "metadata": {},
   "outputs": [],
   "source": [
    "import hyp3_sdk\n",
    "import concurrent.futures\n",
    "from tqdm import tqdm\n",
    "from pathlib import Path"
   ]
  },
  {
   "cell_type": "code",
   "execution_count": 2,
   "id": "92fc68ac-c0a6-4ee5-844b-f7c7ec2728cc",
   "metadata": {},
   "outputs": [],
   "source": [
    "job_name = 'Marrakesh-1_154_None_0911_noFr' # \"Marrakesh-1_154_None_0911\"# \"Marrakesh-1_154_None_0911_noFr\" # "
   ]
  },
  {
   "cell_type": "code",
   "execution_count": 3,
   "id": "be8733b6-31f7-41e0-8e72-a7180c7ec340",
   "metadata": {},
   "outputs": [
    {
     "name": "stdout",
     "output_type": "stream",
     "text": [
      "3 HyP3 Jobs: 3 succeeded, 0 failed, 0 running, 0 pending.\n"
     ]
    }
   ],
   "source": [
    "hyp3_isce = hyp3_sdk.HyP3('https://hyp3-a19-jpl.asf.alaska.edu')\n",
    "jobs = hyp3_isce.find_jobs(user_id='access_cloud_based_insar', \n",
    "                           start='2023-09-11T00:00:00Z',\n",
    "                           name=job_name)\n",
    "print(jobs)"
   ]
  },
  {
   "cell_type": "code",
   "execution_count": 4,
   "id": "d03d0177-b106-4ca6-bcad-2dee4a7926d6",
   "metadata": {},
   "outputs": [
    {
     "data": {
      "text/plain": [
       "PosixPath('products/Marrakesh-1_154_None_0911_noFr')"
      ]
     },
     "execution_count": 4,
     "metadata": {},
     "output_type": "execute_result"
    }
   ],
   "source": [
    "prod_dir = Path(f'products/{job_name}')\n",
    "prod_dir.mkdir(exist_ok=True, parents=True)\n",
    "prod_dir"
   ]
  },
  {
   "cell_type": "code",
   "execution_count": 5,
   "id": "7f034052-533a-4173-bf88-b5f2b4d50fd0",
   "metadata": {},
   "outputs": [
    {
     "name": "stderr",
     "output_type": "stream",
     "text": [
      "  0%|                                           | 0/3 [00:00<?, ?it/s]"
     ]
    },
    {
     "data": {
      "application/vnd.jupyter.widget-view+json": {
       "model_id": "72c675117a0d4fadaf62419809e5305f",
       "version_major": 2,
       "version_minor": 0
      },
      "text/plain": [
       "S1-GUNW-D-R-154-tops-20230911_20230830-062921-00009W_00030N-PP-81eb-v3_0_0.nc:   0%|          | 0/164752272 [0…"
      ]
     },
     "metadata": {},
     "output_type": "display_data"
    },
    {
     "data": {
      "application/vnd.jupyter.widget-view+json": {
       "model_id": "46074c681c6842d59b0cf1bbb4234777",
       "version_major": 2,
       "version_minor": 0
      },
      "text/plain": [
       "S1-GUNW-D-R-154-tops-20230911_20230806-062921-00009W_00030N-PP-efe8-v3_0_0.nc:   0%|          | 0/166220862 [0…"
      ]
     },
     "metadata": {},
     "output_type": "display_data"
    },
    {
     "data": {
      "application/vnd.jupyter.widget-view+json": {
       "model_id": "b2b9f1881b18400a92de2cdf2e20486b",
       "version_major": 2,
       "version_minor": 0
      },
      "text/plain": [
       "S1-GUNW-D-R-154-tops-20230911_20230818-062921-00009W_00030N-PP-f697-v3_0_0.nc:   0%|          | 0/166093985 [0…"
      ]
     },
     "metadata": {},
     "output_type": "display_data"
    },
    {
     "name": "stderr",
     "output_type": "stream",
     "text": [
      "100%|███████████████████████████████████| 3/3 [01:06<00:00, 22.12s/it]\n"
     ]
    }
   ],
   "source": [
    "with concurrent.futures.ThreadPoolExecutor(max_workers=10) as executor:\n",
    "    paths = list(tqdm(executor.map(lambda j: j.download_files(prod_dir), jobs), total=len(jobs)))"
   ]
  }
 ],
 "metadata": {
  "kernelspec": {
   "display_name": "gunw_interactive",
   "language": "python",
   "name": "gunw_interactive"
  },
  "language_info": {
   "codemirror_mode": {
    "name": "ipython",
    "version": 3
   },
   "file_extension": ".py",
   "mimetype": "text/x-python",
   "name": "python",
   "nbconvert_exporter": "python",
   "pygments_lexer": "ipython3",
   "version": "3.11.5"
  }
 },
 "nbformat": 4,
 "nbformat_minor": 5
}
